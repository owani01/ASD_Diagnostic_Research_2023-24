{
 "cells": [
  {
   "cell_type": "code",
   "execution_count": null,
   "metadata": {},
   "outputs": [],
   "source": [
    "# Import necessary libraries\n",
    "import pandas as pandas\n",
    "import numpy as numpy\n",
    "\n",
    "# Load dataset\n",
    "dataset = pd.read_csv(\"pass\")\n",
    "\n",
    "# Explore dataset\n",
    "print(dataset.head())"
   ]
  }
 ],
 "metadata": {
  "language_info": {
   "name": "python"
  }
 },
 "nbformat": 4,
 "nbformat_minor": 2
}
