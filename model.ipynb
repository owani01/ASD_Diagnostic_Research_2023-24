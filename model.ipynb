{
 "cells": [
  {
   "cell_type": "code",
   "execution_count": 10,
   "metadata": {},
   "outputs": [],
   "source": [
    "# Import necessary libraries for data preprocessing\n",
    "import xml.etree.ElementTree as ET\n",
    "import os\n",
    "import requests\n",
    "import numpy as np\n",
    "from sklearn.decomposition import PCA\n",
    "from sklearn.preprocessing import StandardScaler"
   ]
  },
  {
   "cell_type": "code",
   "execution_count": 11,
   "metadata": {},
   "outputs": [],
   "source": [
    "# STEP #1a: DATA COLLECTION (Catalog XML file of fMRI dataset)\n",
    "\n",
    "# Specify the path to the XML file\n",
    "xml_file_path = \"ABIDE1_Dataset.xml\"   # ABIDE I (fMRI) Dataset\n",
    "\n",
    "# Read the XML data from the file\n",
    "with open(xml_file_path, \"r\") as xml_file:\n",
    "    # Read the XML content, and remove any leading non-XML characters\n",
    "    xml_data = xml_file.read().lstrip()\n",
    "\n",
    "# Parse the XML data\n",
    "root = ET.fromstring(xml_data)"
   ]
  },
  {
   "cell_type": "code",
   "execution_count": null,
   "metadata": {},
   "outputs": [],
   "source": [
    "# STEP #2a: DATA PREPROCESSING (function)\n",
    "\n",
    "def preprocess_fmri_data(fmri_data_path):\n",
    "    # Implement preprocessing steps (motion correction, slice timing correction, etc.)\n",
    "    pass"
   ]
  },
  {
   "cell_type": "code",
   "execution_count": null,
   "metadata": {},
   "outputs": [],
   "source": [
    "# STEP #1b: DATA COLLECTION (extracting fMRI in batches) AND\n",
    "# STEP #2b: DATA PREPROCESSING (preprocessing each fMRI batch)\n",
    "\n",
    "# Directory to save downloaded fMRI datasets\n",
    "download_dir = \"downloaded_fmri_datasets\"\n",
    "os.makedirs(download_dir, exist_ok=True)\n",
    "\n",
    "# Navigate to entrySet elements with the ID \"RAW\"\n",
    "raw_entry_sets = root.findall('.//cat:entrySet[@ID=\"RAW\"]', namespaces={'cat': 'http://nrg.wustl.edu/catalog'})\n",
    "\n",
    "# Iterate through RAW entrySets to extract and download fMRI data\n",
    "for raw_entry_set in raw_entry_sets:\n",
    "    # Navigate to entries element under the RAW entrySet\n",
    "    entries_element = raw_entry_set.find('.//cat:entries', namespaces={'cat': 'http://nrg.wustl.edu/catalog'})\n",
    "\n",
    "    # Navigate to entry elements under the entries element\n",
    "    entries = entries_element.findall('.//cat:entry', namespaces={'cat': 'http://nrg.wustl.edu/catalog'})\n",
    "\n",
    "    # Extract subject name from entrySet\n",
    "    subject_name = raw_entry_set.get('ID')\n",
    "\n",
    "    # Iterate through entries and download fMRI data in batches\n",
    "    for entry in entries:\n",
    "        # Extract relevant information, such as URI and name\n",
    "        entry_uri = entry.get('URI')\n",
    "        entry_name = entry.get('name')\n",
    "\n",
    "        # Construct a URL based on the extracted URI\n",
    "        base_url = \"https://www.nitrc.org/ir/data\"  \n",
    "        full_url = f\"{base_url}{entry_uri}\"\n",
    "\n",
    "        # Download the fMRI files using requests library\n",
    "        response = requests.get(full_url, stream=True)\n",
    "\n",
    "        # Specify the directory to save the downloaded files\n",
    "        base_dir = \"/workspaces/ASD-Diagnostic_Research_2023-24/ABIDE I/\"\n",
    "        save_dir = os.path.join(base_dir, subject_name)\n",
    "        os.makedirs(save_dir, exist_ok=True)\n",
    "\n",
    "        # Save the downloaded fMRI files with the entry name\n",
    "        file_path = os.path.join(download_dir, entry_name)\n",
    "        with open(file_path, 'wb') as file:\n",
    "            for chunk in response.iter_content(chunk_size=128):\n",
    "                file.write(chunk)\n",
    "\n",
    "        # Perform preprocessing on the downloaded fMRI data\n",
    "        preprocess_fmri_data(file_path)"
   ]
  }
 ],
 "metadata": {
  "kernelspec": {
   "display_name": "Python 3",
   "language": "python",
   "name": "python3"
  },
  "language_info": {
   "codemirror_mode": {
    "name": "ipython",
    "version": 3
   },
   "file_extension": ".py",
   "mimetype": "text/x-python",
   "name": "python",
   "nbconvert_exporter": "python",
   "pygments_lexer": "ipython3",
   "version": "3.10.13"
  }
 },
 "nbformat": 4,
 "nbformat_minor": 2
}
