{
 "cells": [
  {
   "cell_type": "code",
   "execution_count": 3,
   "metadata": {},
   "outputs": [],
   "source": [
    "import pandas as pd\n",
    "import import_ipynb\n",
    "import model "
   ]
  },
  {
   "cell_type": "code",
   "execution_count": 2,
   "metadata": {},
   "outputs": [],
   "source": [
    "derivatives = [\"rois_aal\", \"rois_cc200\", \"rois_cc400\", \"rois_dosenbach160\", \"rois_ez\", \"rois_ho\", \"rois_tt\"]\n",
    "algorithms = [\"SVM\", \"RF\", \"DT\", \"KNN\", \"LR\", \"NB\"]\n",
    "pipelines = [\"cpac\", \"niak\"]\n",
    "strategies = [\"filt_global\", \"filt_noglobal\", \"nofilt_global\", \"nofilt_noglobal\"]"
   ]
  },
  {
   "cell_type": "code",
   "execution_count": null,
   "metadata": {},
   "outputs": [],
   "source": [
    "column_titles = [\"ML Algorithm\", \"Derivative\", \"Preprocessing Pipeline\", \"Preprocessing Strategy\",\n",
    "                \"Sensitivity\", \"Specificity\", \"Precision\", \"F1 Score\", \"Accuracy\",\n",
    "                \"True Positives\", \"True Negatives\", \"False Positives\", \"False Negatives\"]\n",
    "experiment_data = pd.DataFrame(columns=column_titles)\n",
    "\n",
    "for derivative in derivatives:\n",
    "    for algorithm in algorithms:\n",
    "        for pipeline in pipelines:\n",
    "            for strategy in strategies:\n",
    "                # Run the model; download data if needed, collect features and labels, train and test algorithm, collect performance metrics\n",
    "                model_performance = model.test_diagnostic_model(derivative=derivative, strategy=strategy, pipeline=pipeline, algorithm=algorithm)\n",
    "\n",
    "                # Add the model's performance metrics to experiment data\n",
    "                model_data = [algorithm, derivative, pipeline, strategy] + model_performance[1:4] + model_performance[0] + model_performance[5:8]\n",
    "                experiment_data = experiment_data.append(pd.Series(model_data, index=column_titles), ignore_index=True)"
   ]
  },
  {
   "cell_type": "code",
   "execution_count": null,
   "metadata": {},
   "outputs": [],
   "source": []
  }
 ],
 "metadata": {
  "kernelspec": {
   "display_name": "Python 3",
   "language": "python",
   "name": "python3"
  },
  "language_info": {
   "codemirror_mode": {
    "name": "ipython",
    "version": 3
   },
   "file_extension": ".py",
   "mimetype": "text/x-python",
   "name": "python",
   "nbconvert_exporter": "python",
   "pygments_lexer": "ipython3",
   "version": "3.10.13"
  }
 },
 "nbformat": 4,
 "nbformat_minor": 2
}
